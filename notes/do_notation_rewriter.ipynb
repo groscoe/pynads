{
 "cells": [
  {
   "cell_type": "markdown",
   "metadata": {},
   "source": [
    "* Take original function\n",
    "* Transform to AST -> ast.parse . inspect.getsource . inspect.unwrap\n",
    "    * it's wrapped in do, unwrap it so we can get the original function\n",
    "    * pull that source code out\n",
    "    * get to nougatty goodness that is the ast\n",
    "* Walk AST w/ custom Transformer\n",
    "    * What is written: `a = yield monadic_function(var1. var2)`\n",
    "    * What we want: `monadic_function(var1, var2) >> (lambda a: ...)`\n",
    "    * or `yield ignore_this_result()` to `ignore_this_result >> (lambda _: ... )`\n",
    "    * Do it in reverse?\n",
    "        * Gradually build up an expression?\n",
    "        * Begin with `Monad.unit(final)`\n",
    "        * Next is: `final = yield monadic_func_n(c)`\n",
    "        * then: `c = yield monadic_func_c(a, b)`\n",
    "        * then `b = yield monadic_func_b(...)`\n",
    "        * then `a = yield monadic_func_a(...)`\n",
    "        * finally: any top level assigns: `thing = ...`\n",
    "* Take new AST and compile it\n",
    "* Exec it into wrapper namespace (omg why)\n",
    "* Return converted function\n",
    "* Burn in hell forever."
   ]
  },
  {
   "cell_type": "markdown",
   "metadata": {},
   "source": [
    "##Proof of Concept of replacing a function's `__code__` attribute"
   ]
  },
  {
   "cell_type": "code",
   "execution_count": 1,
   "metadata": {
    "collapsed": true
   },
   "outputs": [],
   "source": [
    "import ast\n",
    "import inspect\n",
    "from pynads import Just, Nothing, Maybe\n",
    "from pynads.utils.decorators import kwargs_decorator\n",
    "\n",
    "#dummy mreturn and do\n",
    "@kwargs_decorator\n",
    "def do(f, monad):\n",
    "    return f\n",
    "\n",
    "mreturn = lambda x: x"
   ]
  },
  {
   "cell_type": "code",
   "execution_count": 2,
   "metadata": {
    "collapsed": true
   },
   "outputs": [],
   "source": [
    "def safe_div(a,b):\n",
    "    if b == 0:\n",
    "        return Nothing\n",
    "    else:\n",
    "        return Just(a/b)\n",
    "\n",
    "\n",
    "@do(monad=Maybe)\n",
    "def safe_div_do(first):\n",
    "    a = yield safe_div(1, first)\n",
    "    b = yield safe_div(first, 3)\n",
    "    c = yield safe_div(b, a)\n",
    "    mreturn(c)\n",
    "    \n",
    "def safe_div_bind(first):\n",
    "    return safe_div(1, first) >> (lambda a:\n",
    "           safe_div(first, 3) >> (lambda b:\n",
    "           safe_div(a, b)     >> (lambda c:\n",
    "           Maybe.unit(c)                )))"
   ]
  },
  {
   "cell_type": "code",
   "execution_count": 3,
   "metadata": {
    "collapsed": false
   },
   "outputs": [
    {
     "data": {
      "text/plain": [
       "<generator object safe_div_do at 0x7fed980bb678>"
      ]
     },
     "execution_count": 3,
     "metadata": {},
     "output_type": "execute_result"
    }
   ],
   "source": [
    "safe_div_do(1)"
   ]
  },
  {
   "cell_type": "code",
   "execution_count": 4,
   "metadata": {
    "collapsed": false
   },
   "outputs": [],
   "source": [
    "safe_div_do_ast = ast.parse(inspect.getsource(inspect.unwrap(safe_div_do)))\n",
    "safe_div_bind_ast = ast.parse(inspect.getsource(safe_div_bind))\n",
    "\n",
    "# replacement indicator\n",
    "# note: this applied *after* we parsed the ast\n",
    "safe_div_do.original = True"
   ]
  },
  {
   "cell_type": "code",
   "execution_count": 5,
   "metadata": {
    "collapsed": true
   },
   "outputs": [],
   "source": [
    "safe_div_do_ast.body[0].body = safe_div_bind_ast.body[0].body"
   ]
  },
  {
   "cell_type": "code",
   "execution_count": 6,
   "metadata": {
    "collapsed": false
   },
   "outputs": [],
   "source": [
    "f = compile(safe_div_do_ast, '<string>', 'exec')\n",
    "exec(f, globals(), locals())"
   ]
  },
  {
   "cell_type": "code",
   "execution_count": 7,
   "metadata": {
    "collapsed": false
   },
   "outputs": [
    {
     "data": {
      "text/plain": [
       "Just 3.0"
      ]
     },
     "execution_count": 7,
     "metadata": {},
     "output_type": "execute_result"
    }
   ],
   "source": [
    "safe_div_do(1)"
   ]
  }
 ],
 "metadata": {
  "kernelspec": {
   "display_name": "Python 3",
   "language": "python",
   "name": "python3"
  },
  "language_info": {
   "codemirror_mode": {
    "name": "ipython",
    "version": 3
   },
   "file_extension": ".py",
   "mimetype": "text/x-python",
   "name": "python",
   "nbconvert_exporter": "python",
   "pygments_lexer": "ipython3",
   "version": "3.4.0"
  }
 },
 "nbformat": 4,
 "nbformat_minor": 0
}
